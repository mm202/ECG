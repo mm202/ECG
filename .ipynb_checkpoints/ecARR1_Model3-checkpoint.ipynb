{
 "cells": [
  {
   "cell_type": "code",
   "execution_count": 1,
   "metadata": {
    "id": "E9pJ0y9MaIlB"
   },
   "outputs": [
    {
     "ename": "ModuleNotFoundError",
     "evalue": "No module named 'tqdm'",
     "output_type": "error",
     "traceback": [
      "\u001b[0;31m---------------------------------------------------------------------------\u001b[0m",
      "\u001b[0;31mModuleNotFoundError\u001b[0m                       Traceback (most recent call last)",
      "\u001b[0;32m/tmp/ipykernel_7088/1880822294.py\u001b[0m in \u001b[0;36m<module>\u001b[0;34m\u001b[0m\n\u001b[1;32m      9\u001b[0m \u001b[0;32mfrom\u001b[0m \u001b[0mutils\u001b[0m \u001b[0;32mimport\u001b[0m \u001b[0mintegerMapping\u001b[0m\u001b[0;34m,\u001b[0m \u001b[0mmappingAAMI\u001b[0m\u001b[0;34m,\u001b[0m \u001b[0mMAP_AAMI\u001b[0m\u001b[0;34m,\u001b[0m \u001b[0mintMapDict\u001b[0m\u001b[0;34m\u001b[0m\u001b[0;34m\u001b[0m\u001b[0m\n\u001b[1;32m     10\u001b[0m \u001b[0;32mfrom\u001b[0m \u001b[0mdata_handling\u001b[0m \u001b[0;32mimport\u001b[0m \u001b[0mDataHandling\u001b[0m\u001b[0;34m\u001b[0m\u001b[0;34m\u001b[0m\u001b[0m\n\u001b[0;32m---> 11\u001b[0;31m \u001b[0;32mfrom\u001b[0m \u001b[0mdata_preprocessing\u001b[0m \u001b[0;32mimport\u001b[0m \u001b[0mDataPreprocessing\u001b[0m\u001b[0;34m\u001b[0m\u001b[0;34m\u001b[0m\u001b[0m\n\u001b[0m\u001b[1;32m     12\u001b[0m \u001b[0;32mfrom\u001b[0m \u001b[0mreport\u001b[0m \u001b[0;32mimport\u001b[0m \u001b[0mReports\u001b[0m\u001b[0;34m\u001b[0m\u001b[0;34m\u001b[0m\u001b[0m\n\u001b[1;32m     13\u001b[0m \u001b[0;32mfrom\u001b[0m \u001b[0mmodel3\u001b[0m \u001b[0;32mimport\u001b[0m \u001b[0mMultiHeadAttentionClassifier\u001b[0m    \u001b[0;31m####MODEL NUMBER\u001b[0m\u001b[0;34m\u001b[0m\u001b[0;34m\u001b[0m\u001b[0m\n",
      "\u001b[0;32m/media/mypc/STORAGE/codes/arrhythmia/ecARR/data_preprocessing.py\u001b[0m in \u001b[0;36m<module>\u001b[0;34m\u001b[0m\n\u001b[1;32m      1\u001b[0m \u001b[0;32mimport\u001b[0m \u001b[0mnumpy\u001b[0m \u001b[0;32mas\u001b[0m \u001b[0mnp\u001b[0m\u001b[0;34m\u001b[0m\u001b[0;34m\u001b[0m\u001b[0m\n\u001b[1;32m      2\u001b[0m \u001b[0;32mfrom\u001b[0m \u001b[0mscipy\u001b[0m \u001b[0;32mimport\u001b[0m \u001b[0msignal\u001b[0m\u001b[0;34m\u001b[0m\u001b[0;34m\u001b[0m\u001b[0m\n\u001b[0;32m----> 3\u001b[0;31m \u001b[0;32mfrom\u001b[0m \u001b[0mtqdm\u001b[0m \u001b[0;32mimport\u001b[0m \u001b[0mtqdm\u001b[0m\u001b[0;34m\u001b[0m\u001b[0;34m\u001b[0m\u001b[0m\n\u001b[0m\u001b[1;32m      4\u001b[0m \u001b[0;34m\u001b[0m\u001b[0m\n\u001b[1;32m      5\u001b[0m \u001b[0;32mclass\u001b[0m \u001b[0mDataPreprocessing\u001b[0m\u001b[0;34m:\u001b[0m\u001b[0;34m\u001b[0m\u001b[0;34m\u001b[0m\u001b[0m\n",
      "\u001b[0;31mModuleNotFoundError\u001b[0m: No module named 'tqdm'"
     ]
    }
   ],
   "source": [
    "%%capture\n",
    "!pip install wfdb\n",
    "BASEPATH = '/'\n",
    "import sys\n",
    "sys.path.insert(0,BASEPATH)\n",
    "print(sys.path)\n",
    "import numpy as np\n",
    "import tensorflow as tf\n",
    "from utils import reset_seed, plot_spectogram, plot_loss\n",
    "from utils import integerMapping, mappingAAMI, MAP_AAMI, intMapDict\n",
    "from data_handling import DataHandling\n",
    "from data_preprocessing import DataPreprocessing\n",
    "from report import Reports\n",
    "from model3 import MultiHeadAttentionClassifier    ####MODEL NUMBER\n",
    "\n",
    "\n",
    "reset_seed()"
   ]
  },
  {
   "cell_type": "code",
   "execution_count": 2,
   "metadata": {},
   "outputs": [
    {
     "name": "stdout",
     "output_type": "stream",
     "text": [
      "Collecting tqdm\n",
      "  Downloading tqdm-4.61.2-py2.py3-none-any.whl (76 kB)\n",
      "\u001b[K     |████████████████████████████████| 76 kB 365 kB/s eta 0:00:01\n",
      "\u001b[?25hInstalling collected packages: tqdm\n",
      "Successfully installed tqdm-4.61.2\n",
      "Note: you may need to restart the kernel to use updated packages.\n"
     ]
    }
   ],
   "source": [
    "pip install tqdm"
   ]
  },
  {
   "cell_type": "code",
   "execution_count": null,
   "metadata": {
    "id": "c7bwM8JHl5-t"
   },
   "outputs": [],
   "source": [
    "!rm -r sample_data"
   ]
  },
  {
   "cell_type": "markdown",
   "metadata": {
    "id": "QgKvMiSDOJJB"
   },
   "source": [
    "#Load & Preprocess data"
   ]
  },
  {
   "cell_type": "code",
   "execution_count": null,
   "metadata": {
    "id": "RwOJWmp9xqDR"
   },
   "outputs": [],
   "source": [
    "%%script false\n",
    "\n",
    "\n",
    "#load-split data\n",
    "dh = DataHandling(base_path = BASEPATH)\n",
    "\n",
    "load_file1=True\n",
    "if load_file1:\n",
    "  x_ttv, y_ttv = dh.loadData(file_path= BASEPATH + 'dataset_splitted.dat')\n",
    "  [x_train,x_test,x_val] = x_ttv \n",
    "  [y_train,y_test,y_val] = y_ttv\n",
    "else:\n",
    "  xds,yds=dh.loadData(file_path= BASEPATH + 'dataset.dat')\n",
    "\n",
    "  X= xds\n",
    "  y = yds\n",
    "  from sklearn.model_selection import train_test_split\n",
    "  x_train, x_val, y_train, y_val  = train_test_split(X, y,test_size=0.20,stratify = y, random_state=142, shuffle=True)\n",
    "  x_train, x_test, y_train, y_test  = train_test_split(x_train, y_train,test_size=0.25,stratify = y_train, random_state=142, shuffle=True)\n",
    "  ####fix for minority class S\n",
    "  '''\n",
    "  _,indexes = dh.searchType(x_train,y_train,Numb=0,sym='S')\n",
    "  index = indexes[0]\n",
    "  x_test = np.append(x_test, x_train[index][np.newaxis,:], axis=0)\n",
    "  y_test.append(y_train[index])\n",
    "  x_train = np.delete(x_train, index, axis=0)\n",
    "  y_train = np.delete(y_train, index)\n",
    "  '''\n",
    "  #####\n",
    "\n",
    "  x_ttv = [x_train,x_test,x_val]\n",
    "  y_ttv = [y_train,y_test,y_val]\n",
    "  dh.saveData(x_ttv,y_ttv, file_path='dataset_splitted.dat')"
   ]
  },
  {
   "cell_type": "markdown",
   "metadata": {
    "id": "sH3qLEjpNHXt"
   },
   "source": [
    "dh.reportStats(xds,yds) = \n",
    "{'/': 3619,\n",
    " 'A': 2546,\n",
    " 'E': 106,\n",
    " 'F': 802,\n",
    " 'J': 83,\n",
    " 'L': 8071,\n",
    " 'N': 74759,\n",
    " 'Q': 15,\n",
    " 'R': 7256,\n",
    " 'S': 2,\n",
    " 'V': 7123,\n",
    " 'a': 150,\n",
    " 'e': 16,\n",
    " 'f': 260,\n",
    " 'j': 229}"
   ]
  },
  {
   "cell_type": "code",
   "execution_count": null,
   "metadata": {
    "id": "Y7UH2v_iQKpe"
   },
   "outputs": [],
   "source": [
    "#Preprocessing\n",
    "dh = DataHandling(base_path=BASEPATH)\n",
    "\n",
    "load_file=True\n",
    "if load_file:\n",
    "  xds_features_ttv, yds_ttv = dh.loadData(file_path= BASEPATH + 'Feat_spect_splitted.dat')\n",
    "  [xds_features_train,xds_features_test,xds_features_val] = xds_features_ttv \n",
    "  [y_train,y_test,y_val] = yds_ttv \n",
    "else:\n",
    "  #preprocess data\n",
    "  dpr = DataPreprocessing()\n",
    "  xds_features_train = dpr.specgram(x_train, Fs=360, nperseg=64, noverlap=32)\n",
    "  xds_features_test = dpr.specgram(x_test, Fs=360, nperseg=64, noverlap=32)\n",
    "  xds_features_val = dpr.specgram(x_val, Fs=360, nperseg=64, noverlap=32)\n",
    "\n",
    "  xds_features_ttv = [xds_features_train, xds_features_test, xds_features_val]\n",
    "  yds_ttv = [y_train,y_test,y_val]\n",
    "  dh.saveData(xds_features_ttv, yds_ttv, file_path='Feat_spect_splitted.dat')\n",
    "\n",
    "x_train = xds_features_train\n",
    "x_test = xds_features_test\n",
    "x_val = xds_features_val"
   ]
  },
  {
   "cell_type": "code",
   "execution_count": null,
   "metadata": {
    "colab": {
     "base_uri": "https://localhost:8080/"
    },
    "id": "aA7eni1jxvqg",
    "outputId": "6b04a60d-2d0f-4873-8b67-18840e9f0616"
   },
   "outputs": [
    {
     "data": {
      "text/plain": [
       "((63021, 7, 33), (21008, 7, 33), (21008, 7, 33), 63021, 21008, 21008)"
      ]
     },
     "execution_count": 6,
     "metadata": {
      "tags": []
     },
     "output_type": "execute_result"
    }
   ],
   "source": [
    "x_train.shape, x_test.shape, x_val.shape, len(y_train), len(y_test), len(y_val)"
   ]
  },
  {
   "cell_type": "code",
   "execution_count": null,
   "metadata": {
    "colab": {
     "base_uri": "https://localhost:8080/"
    },
    "id": "_qcng0T-FX2P",
    "outputId": "34a471c2-1b14-433b-d20d-da0d2076b0a9"
   },
   "outputs": [
    {
     "data": {
      "text/plain": [
       "{'/': 2171,\n",
       " 'A': 1528,\n",
       " 'E': 64,\n",
       " 'F': 481,\n",
       " 'J': 49,\n",
       " 'L': 4843,\n",
       " 'N': 44855,\n",
       " 'Q': 9,\n",
       " 'R': 4354,\n",
       " 'S': 1,\n",
       " 'V': 4273,\n",
       " 'a': 90,\n",
       " 'e': 10,\n",
       " 'f': 156,\n",
       " 'j': 137}"
      ]
     },
     "execution_count": 7,
     "metadata": {
      "tags": []
     },
     "output_type": "execute_result"
    }
   ],
   "source": [
    "dh.reportStats(x_train,y_train)"
   ]
  },
  {
   "cell_type": "code",
   "execution_count": null,
   "metadata": {
    "colab": {
     "base_uri": "https://localhost:8080/"
    },
    "id": "z3xf8DkjFZGq",
    "outputId": "6e82da31-fb30-4d66-d100-fa5065f8998f"
   },
   "outputs": [
    {
     "data": {
      "text/plain": [
       "{'/': 724,\n",
       " 'A': 509,\n",
       " 'E': 21,\n",
       " 'F': 160,\n",
       " 'J': 17,\n",
       " 'L': 1614,\n",
       " 'N': 14952,\n",
       " 'Q': 3,\n",
       " 'R': 1451,\n",
       " 'S': 1,\n",
       " 'V': 1425,\n",
       " 'a': 30,\n",
       " 'e': 3,\n",
       " 'f': 52,\n",
       " 'j': 46}"
      ]
     },
     "execution_count": 8,
     "metadata": {
      "tags": []
     },
     "output_type": "execute_result"
    }
   ],
   "source": [
    "dh.reportStats(x_test,y_test)"
   ]
  },
  {
   "cell_type": "code",
   "execution_count": null,
   "metadata": {
    "colab": {
     "base_uri": "https://localhost:8080/"
    },
    "id": "zagl4yIHIHg4",
    "outputId": "a97d9cdd-3e52-434a-b330-9edf0ff9a92f"
   },
   "outputs": [
    {
     "data": {
      "text/plain": [
       "{'/': 724,\n",
       " 'A': 509,\n",
       " 'E': 21,\n",
       " 'F': 161,\n",
       " 'J': 17,\n",
       " 'L': 1614,\n",
       " 'N': 14952,\n",
       " 'Q': 3,\n",
       " 'R': 1451,\n",
       " 'S': 0,\n",
       " 'V': 1425,\n",
       " 'a': 30,\n",
       " 'e': 3,\n",
       " 'f': 52,\n",
       " 'j': 46}"
      ]
     },
     "execution_count": 9,
     "metadata": {
      "tags": []
     },
     "output_type": "execute_result"
    }
   ],
   "source": [
    "dh.reportStats(x_val,y_val)"
   ]
  },
  {
   "cell_type": "code",
   "execution_count": null,
   "metadata": {
    "id": "u4LWVBgkF1NI"
   },
   "outputs": [],
   "source": [
    "y_train = integerMapping(y_train,intMapDict)\n",
    "#y_test = integerMapping(y_train,intMapDict)\n",
    "y_val = integerMapping(y_val,intMapDict)"
   ]
  },
  {
   "cell_type": "markdown",
   "metadata": {
    "id": "phHl-9TqPAKo"
   },
   "source": [
    "#Train"
   ]
  },
  {
   "cell_type": "code",
   "execution_count": null,
   "metadata": {
    "colab": {
     "base_uri": "https://localhost:8080/"
    },
    "id": "aeVdtly2Y4Ek",
    "outputId": "4784169f-558c-41ea-f4a3-12b04a4e66ef"
   },
   "outputs": [
    {
     "name": "stdout",
     "output_type": "stream",
     "text": [
      "{'seq_len': 7, 'd_model': 33, 'num_heads': 3, 'num_classes': 15, 'drate': 0.1, 'batch_size': 32, 'epochs': 100}\n"
     ]
    }
   ],
   "source": [
    "params = {\n",
    "    'seq_len' : x_train.shape[-2],\n",
    "    'd_model' : x_train.shape[-1],\n",
    "    'num_heads' : 3,\n",
    "    'num_classes' : 15,\n",
    "    'drate' : 0.1,\n",
    "    'batch_size' : 32,\n",
    "    'epochs' : 100\n",
    "}\n",
    "print(params)"
   ]
  },
  {
   "cell_type": "code",
   "execution_count": null,
   "metadata": {
    "id": "6GRPAf4mzJ3q"
   },
   "outputs": [],
   "source": [
    "model_classifier  = MultiHeadAttentionClassifier(\n",
    "                                            seq_len=params['seq_len'],\n",
    "                                            d_model = params['d_model'],\n",
    "                                            num_heads = params['num_heads'],\n",
    "                                            num_classes=params['num_classes'],\n",
    "                                            drate=params['drate']\n",
    "                                                  )"
   ]
  },
  {
   "cell_type": "code",
   "execution_count": null,
   "metadata": {
    "id": "DUibFsLZumUC"
   },
   "outputs": [],
   "source": []
  },
  {
   "cell_type": "code",
   "execution_count": null,
   "metadata": {
    "colab": {
     "base_uri": "https://localhost:8080/"
    },
    "id": "PgOFHNu4PJtp",
    "outputId": "bb980fca-50d2-468e-9cc9-5350815a4b67"
   },
   "outputs": [
    {
     "name": "stdout",
     "output_type": "stream",
     "text": [
      "Epoch 1/100\n",
      "It is ok!\n",
      "It is ok!\n",
      "1966/1970 [============================>.] - ETA: 0s - loss: 0.5208 - accuracy: 0.8427It is ok!\n",
      "1970/1970 [==============================] - 28s 12ms/step - loss: 0.5204 - accuracy: 0.8428 - val_loss: 0.2886 - val_accuracy: 0.9253\n",
      "\n",
      "Epoch 00001: val_loss improved from inf to 0.28863, saving model to /content/drive/MyDrive/ecARR/checkpoint/keras.model3\n",
      "It is ok!\n",
      "It is ok!\n",
      "It is ok!\n",
      "It is ok!\n",
      "It is ok!\n",
      "It is ok!\n",
      "It is ok!\n"
     ]
    },
    {
     "name": "stderr",
     "output_type": "stream",
     "text": [
      "WARNING:absl:Found untraced functions such as embedding_layer_call_and_return_conditional_losses, embedding_layer_call_fn, dense_layer_call_and_return_conditional_losses, dense_layer_call_fn, dense_1_layer_call_and_return_conditional_losses while saving (showing 5 of 85). These functions will not be directly callable after loading.\n",
      "INFO:tensorflow:Assets written to: /content/drive/MyDrive/ecARR/checkpoint/keras.model3/assets\n"
     ]
    },
    {
     "name": "stdout",
     "output_type": "stream",
     "text": [
      "Epoch 2/100\n",
      "1970/1970 [==============================] - 23s 12ms/step - loss: 0.2775 - accuracy: 0.9243 - val_loss: 0.2281 - val_accuracy: 0.9422\n",
      "\n",
      "Epoch 00002: val_loss improved from 0.28863 to 0.22809, saving model to /content/drive/MyDrive/ecARR/checkpoint/keras.model3\n",
      "It is ok!\n",
      "It is ok!\n",
      "It is ok!\n",
      "It is ok!\n",
      "It is ok!\n",
      "It is ok!\n",
      "It is ok!\n"
     ]
    },
    {
     "name": "stderr",
     "output_type": "stream",
     "text": [
      "WARNING:absl:Found untraced functions such as embedding_layer_call_and_return_conditional_losses, embedding_layer_call_fn, dense_layer_call_and_return_conditional_losses, dense_layer_call_fn, dense_1_layer_call_and_return_conditional_losses while saving (showing 5 of 85). These functions will not be directly callable after loading.\n",
      "INFO:tensorflow:Assets written to: /content/drive/MyDrive/ecARR/checkpoint/keras.model3/assets\n"
     ]
    },
    {
     "name": "stdout",
     "output_type": "stream",
     "text": [
      "Epoch 3/100\n",
      "1970/1970 [==============================] - 23s 12ms/step - loss: 0.2142 - accuracy: 0.9428 - val_loss: 0.1946 - val_accuracy: 0.9478\n",
      "\n",
      "Epoch 00003: val_loss improved from 0.22809 to 0.19457, saving model to /content/drive/MyDrive/ecARR/checkpoint/keras.model3\n",
      "It is ok!\n",
      "It is ok!\n",
      "It is ok!\n",
      "It is ok!\n",
      "It is ok!\n",
      "It is ok!\n",
      "It is ok!\n"
     ]
    },
    {
     "name": "stderr",
     "output_type": "stream",
     "text": [
      "WARNING:absl:Found untraced functions such as embedding_layer_call_and_return_conditional_losses, embedding_layer_call_fn, dense_layer_call_and_return_conditional_losses, dense_layer_call_fn, dense_1_layer_call_and_return_conditional_losses while saving (showing 5 of 85). These functions will not be directly callable after loading.\n",
      "INFO:tensorflow:Assets written to: /content/drive/MyDrive/ecARR/checkpoint/keras.model3/assets\n"
     ]
    },
    {
     "name": "stdout",
     "output_type": "stream",
     "text": [
      "Epoch 4/100\n",
      "1970/1970 [==============================] - 23s 12ms/step - loss: 0.1893 - accuracy: 0.9500 - val_loss: 0.1597 - val_accuracy: 0.9572\n",
      "\n",
      "Epoch 00004: val_loss improved from 0.19457 to 0.15968, saving model to /content/drive/MyDrive/ecARR/checkpoint/keras.model3\n",
      "It is ok!\n",
      "It is ok!\n",
      "It is ok!\n",
      "It is ok!\n",
      "It is ok!\n",
      "It is ok!\n",
      "It is ok!\n"
     ]
    },
    {
     "name": "stderr",
     "output_type": "stream",
     "text": [
      "WARNING:absl:Found untraced functions such as embedding_layer_call_and_return_conditional_losses, embedding_layer_call_fn, dense_layer_call_and_return_conditional_losses, dense_layer_call_fn, dense_1_layer_call_and_return_conditional_losses while saving (showing 5 of 85). These functions will not be directly callable after loading.\n",
      "INFO:tensorflow:Assets written to: /content/drive/MyDrive/ecARR/checkpoint/keras.model3/assets\n"
     ]
    },
    {
     "name": "stdout",
     "output_type": "stream",
     "text": [
      "Epoch 5/100\n",
      "1970/1970 [==============================] - 23s 12ms/step - loss: 0.1720 - accuracy: 0.9539 - val_loss: 0.1543 - val_accuracy: 0.9585\n",
      "\n",
      "Epoch 00005: val_loss improved from 0.15968 to 0.15433, saving model to /content/drive/MyDrive/ecARR/checkpoint/keras.model3\n",
      "It is ok!\n",
      "It is ok!\n",
      "It is ok!\n",
      "It is ok!\n",
      "It is ok!\n",
      "It is ok!\n",
      "It is ok!\n"
     ]
    },
    {
     "name": "stderr",
     "output_type": "stream",
     "text": [
      "WARNING:absl:Found untraced functions such as embedding_layer_call_and_return_conditional_losses, embedding_layer_call_fn, dense_layer_call_and_return_conditional_losses, dense_layer_call_fn, dense_1_layer_call_and_return_conditional_losses while saving (showing 5 of 85). These functions will not be directly callable after loading.\n",
      "INFO:tensorflow:Assets written to: /content/drive/MyDrive/ecARR/checkpoint/keras.model3/assets\n"
     ]
    },
    {
     "name": "stdout",
     "output_type": "stream",
     "text": [
      "Epoch 6/100\n",
      "1970/1970 [==============================] - 24s 12ms/step - loss: 0.1604 - accuracy: 0.9570 - val_loss: 0.1540 - val_accuracy: 0.9574\n",
      "\n",
      "Epoch 00006: val_loss improved from 0.15433 to 0.15399, saving model to /content/drive/MyDrive/ecARR/checkpoint/keras.model3\n",
      "It is ok!\n",
      "It is ok!\n",
      "It is ok!\n",
      "It is ok!\n",
      "It is ok!\n",
      "It is ok!\n",
      "It is ok!\n"
     ]
    },
    {
     "name": "stderr",
     "output_type": "stream",
     "text": [
      "WARNING:absl:Found untraced functions such as embedding_layer_call_and_return_conditional_losses, embedding_layer_call_fn, dense_layer_call_and_return_conditional_losses, dense_layer_call_fn, dense_1_layer_call_and_return_conditional_losses while saving (showing 5 of 85). These functions will not be directly callable after loading.\n",
      "INFO:tensorflow:Assets written to: /content/drive/MyDrive/ecARR/checkpoint/keras.model3/assets\n"
     ]
    },
    {
     "name": "stdout",
     "output_type": "stream",
     "text": [
      "Epoch 7/100\n",
      "1970/1970 [==============================] - 23s 12ms/step - loss: 0.1494 - accuracy: 0.9590 - val_loss: 0.1376 - val_accuracy: 0.9676\n",
      "\n",
      "Epoch 00007: val_loss improved from 0.15399 to 0.13761, saving model to /content/drive/MyDrive/ecARR/checkpoint/keras.model3\n",
      "It is ok!\n",
      "It is ok!\n",
      "It is ok!\n",
      "It is ok!\n",
      "It is ok!\n",
      "It is ok!\n",
      "It is ok!\n"
     ]
    },
    {
     "name": "stderr",
     "output_type": "stream",
     "text": [
      "WARNING:absl:Found untraced functions such as embedding_layer_call_and_return_conditional_losses, embedding_layer_call_fn, dense_layer_call_and_return_conditional_losses, dense_layer_call_fn, dense_1_layer_call_and_return_conditional_losses while saving (showing 5 of 85). These functions will not be directly callable after loading.\n",
      "INFO:tensorflow:Assets written to: /content/drive/MyDrive/ecARR/checkpoint/keras.model3/assets\n"
     ]
    },
    {
     "name": "stdout",
     "output_type": "stream",
     "text": [
      "Epoch 8/100\n",
      "1970/1970 [==============================] - 23s 12ms/step - loss: 0.1392 - accuracy: 0.9613 - val_loss: 0.1210 - val_accuracy: 0.9687\n",
      "\n",
      "Epoch 00008: val_loss improved from 0.13761 to 0.12100, saving model to /content/drive/MyDrive/ecARR/checkpoint/keras.model3\n",
      "It is ok!\n",
      "It is ok!\n",
      "It is ok!\n",
      "It is ok!\n",
      "It is ok!\n",
      "It is ok!\n",
      "It is ok!\n"
     ]
    },
    {
     "name": "stderr",
     "output_type": "stream",
     "text": [
      "WARNING:absl:Found untraced functions such as embedding_layer_call_and_return_conditional_losses, embedding_layer_call_fn, dense_layer_call_and_return_conditional_losses, dense_layer_call_fn, dense_1_layer_call_and_return_conditional_losses while saving (showing 5 of 85). These functions will not be directly callable after loading.\n",
      "INFO:tensorflow:Assets written to: /content/drive/MyDrive/ecARR/checkpoint/keras.model3/assets\n"
     ]
    },
    {
     "name": "stdout",
     "output_type": "stream",
     "text": [
      "Epoch 9/100\n",
      "1970/1970 [==============================] - 24s 12ms/step - loss: 0.1316 - accuracy: 0.9638 - val_loss: 0.1201 - val_accuracy: 0.9677\n",
      "\n",
      "Epoch 00009: val_loss improved from 0.12100 to 0.12005, saving model to /content/drive/MyDrive/ecARR/checkpoint/keras.model3\n",
      "It is ok!\n",
      "It is ok!\n",
      "It is ok!\n",
      "It is ok!\n",
      "It is ok!\n",
      "It is ok!\n",
      "It is ok!\n"
     ]
    },
    {
     "name": "stderr",
     "output_type": "stream",
     "text": [
      "WARNING:absl:Found untraced functions such as embedding_layer_call_and_return_conditional_losses, embedding_layer_call_fn, dense_layer_call_and_return_conditional_losses, dense_layer_call_fn, dense_1_layer_call_and_return_conditional_losses while saving (showing 5 of 85). These functions will not be directly callable after loading.\n",
      "INFO:tensorflow:Assets written to: /content/drive/MyDrive/ecARR/checkpoint/keras.model3/assets\n"
     ]
    },
    {
     "name": "stdout",
     "output_type": "stream",
     "text": [
      "Epoch 10/100\n",
      "1970/1970 [==============================] - 23s 12ms/step - loss: 0.1277 - accuracy: 0.9639 - val_loss: 0.1189 - val_accuracy: 0.9702\n",
      "\n",
      "Epoch 00010: val_loss improved from 0.12005 to 0.11889, saving model to /content/drive/MyDrive/ecARR/checkpoint/keras.model3\n",
      "It is ok!\n",
      "It is ok!\n",
      "It is ok!\n",
      "It is ok!\n",
      "It is ok!\n",
      "It is ok!\n",
      "It is ok!\n"
     ]
    },
    {
     "name": "stderr",
     "output_type": "stream",
     "text": [
      "WARNING:absl:Found untraced functions such as embedding_layer_call_and_return_conditional_losses, embedding_layer_call_fn, dense_layer_call_and_return_conditional_losses, dense_layer_call_fn, dense_1_layer_call_and_return_conditional_losses while saving (showing 5 of 85). These functions will not be directly callable after loading.\n",
      "INFO:tensorflow:Assets written to: /content/drive/MyDrive/ecARR/checkpoint/keras.model3/assets\n"
     ]
    },
    {
     "name": "stdout",
     "output_type": "stream",
     "text": [
      "Epoch 11/100\n",
      "1970/1970 [==============================] - 23s 12ms/step - loss: 0.1199 - accuracy: 0.9660 - val_loss: 0.1155 - val_accuracy: 0.9673\n",
      "\n",
      "Epoch 00011: val_loss improved from 0.11889 to 0.11551, saving model to /content/drive/MyDrive/ecARR/checkpoint/keras.model3\n",
      "It is ok!\n",
      "It is ok!\n",
      "It is ok!\n",
      "It is ok!\n",
      "It is ok!\n",
      "It is ok!\n",
      "It is ok!\n"
     ]
    },
    {
     "name": "stderr",
     "output_type": "stream",
     "text": [
      "WARNING:absl:Found untraced functions such as embedding_layer_call_and_return_conditional_losses, embedding_layer_call_fn, dense_layer_call_and_return_conditional_losses, dense_layer_call_fn, dense_1_layer_call_and_return_conditional_losses while saving (showing 5 of 85). These functions will not be directly callable after loading.\n",
      "INFO:tensorflow:Assets written to: /content/drive/MyDrive/ecARR/checkpoint/keras.model3/assets\n"
     ]
    },
    {
     "name": "stdout",
     "output_type": "stream",
     "text": [
      "Epoch 12/100\n",
      "1970/1970 [==============================] - 23s 12ms/step - loss: 0.1139 - accuracy: 0.9672 - val_loss: 0.1162 - val_accuracy: 0.9675\n",
      "\n",
      "Epoch 00012: val_loss did not improve from 0.11551\n",
      "Epoch 13/100\n",
      "1970/1970 [==============================] - 23s 12ms/step - loss: 0.1096 - accuracy: 0.9686 - val_loss: 0.0979 - val_accuracy: 0.9724\n",
      "\n",
      "Epoch 00013: val_loss improved from 0.11551 to 0.09792, saving model to /content/drive/MyDrive/ecARR/checkpoint/keras.model3\n",
      "It is ok!\n",
      "It is ok!\n",
      "It is ok!\n",
      "It is ok!\n",
      "It is ok!\n",
      "It is ok!\n",
      "It is ok!\n"
     ]
    },
    {
     "name": "stderr",
     "output_type": "stream",
     "text": [
      "WARNING:absl:Found untraced functions such as embedding_layer_call_and_return_conditional_losses, embedding_layer_call_fn, dense_layer_call_and_return_conditional_losses, dense_layer_call_fn, dense_1_layer_call_and_return_conditional_losses while saving (showing 5 of 85). These functions will not be directly callable after loading.\n",
      "INFO:tensorflow:Assets written to: /content/drive/MyDrive/ecARR/checkpoint/keras.model3/assets\n"
     ]
    },
    {
     "name": "stdout",
     "output_type": "stream",
     "text": [
      "Epoch 14/100\n",
      "1970/1970 [==============================] - 23s 12ms/step - loss: 0.1042 - accuracy: 0.9698 - val_loss: 0.0985 - val_accuracy: 0.9723\n",
      "\n",
      "Epoch 00014: val_loss did not improve from 0.09792\n",
      "Epoch 15/100\n",
      "1970/1970 [==============================] - 23s 12ms/step - loss: 0.1002 - accuracy: 0.9710 - val_loss: 0.0928 - val_accuracy: 0.9737\n",
      "\n",
      "Epoch 00015: val_loss improved from 0.09792 to 0.09280, saving model to /content/drive/MyDrive/ecARR/checkpoint/keras.model3\n",
      "It is ok!\n",
      "It is ok!\n",
      "It is ok!\n",
      "It is ok!\n",
      "It is ok!\n",
      "It is ok!\n",
      "It is ok!\n"
     ]
    },
    {
     "name": "stderr",
     "output_type": "stream",
     "text": [
      "WARNING:absl:Found untraced functions such as embedding_layer_call_and_return_conditional_losses, embedding_layer_call_fn, dense_layer_call_and_return_conditional_losses, dense_layer_call_fn, dense_1_layer_call_and_return_conditional_losses while saving (showing 5 of 85). These functions will not be directly callable after loading.\n",
      "INFO:tensorflow:Assets written to: /content/drive/MyDrive/ecARR/checkpoint/keras.model3/assets\n"
     ]
    },
    {
     "name": "stdout",
     "output_type": "stream",
     "text": [
      "Epoch 16/100\n",
      "1970/1970 [==============================] - 23s 12ms/step - loss: 0.0981 - accuracy: 0.9715 - val_loss: 0.0919 - val_accuracy: 0.9742\n",
      "\n",
      "Epoch 00016: val_loss improved from 0.09280 to 0.09190, saving model to /content/drive/MyDrive/ecARR/checkpoint/keras.model3\n",
      "It is ok!\n",
      "It is ok!\n",
      "It is ok!\n",
      "It is ok!\n",
      "It is ok!\n",
      "It is ok!\n",
      "It is ok!\n"
     ]
    },
    {
     "name": "stderr",
     "output_type": "stream",
     "text": [
      "WARNING:absl:Found untraced functions such as embedding_layer_call_and_return_conditional_losses, embedding_layer_call_fn, dense_layer_call_and_return_conditional_losses, dense_layer_call_fn, dense_1_layer_call_and_return_conditional_losses while saving (showing 5 of 85). These functions will not be directly callable after loading.\n",
      "INFO:tensorflow:Assets written to: /content/drive/MyDrive/ecARR/checkpoint/keras.model3/assets\n"
     ]
    },
    {
     "name": "stdout",
     "output_type": "stream",
     "text": [
      "Epoch 17/100\n",
      "1970/1970 [==============================] - 24s 12ms/step - loss: 0.0950 - accuracy: 0.9720 - val_loss: 0.1062 - val_accuracy: 0.9706\n",
      "\n",
      "Epoch 00017: val_loss did not improve from 0.09190\n",
      "Epoch 18/100\n",
      "1970/1970 [==============================] - 23s 12ms/step - loss: 0.0924 - accuracy: 0.9727 - val_loss: 0.0950 - val_accuracy: 0.9746\n",
      "\n",
      "Epoch 00018: val_loss did not improve from 0.09190\n",
      "Epoch 19/100\n",
      "1970/1970 [==============================] - 24s 12ms/step - loss: 0.0895 - accuracy: 0.9735 - val_loss: 0.0890 - val_accuracy: 0.9757\n",
      "\n",
      "Epoch 00019: val_loss improved from 0.09190 to 0.08901, saving model to /content/drive/MyDrive/ecARR/checkpoint/keras.model3\n",
      "It is ok!\n",
      "It is ok!\n",
      "It is ok!\n",
      "It is ok!\n",
      "It is ok!\n",
      "It is ok!\n",
      "It is ok!\n"
     ]
    },
    {
     "name": "stderr",
     "output_type": "stream",
     "text": [
      "WARNING:absl:Found untraced functions such as embedding_layer_call_and_return_conditional_losses, embedding_layer_call_fn, dense_layer_call_and_return_conditional_losses, dense_layer_call_fn, dense_1_layer_call_and_return_conditional_losses while saving (showing 5 of 85). These functions will not be directly callable after loading.\n",
      "INFO:tensorflow:Assets written to: /content/drive/MyDrive/ecARR/checkpoint/keras.model3/assets\n"
     ]
    },
    {
     "name": "stdout",
     "output_type": "stream",
     "text": [
      "Epoch 20/100\n",
      "1970/1970 [==============================] - 24s 12ms/step - loss: 0.0872 - accuracy: 0.9740 - val_loss: 0.0841 - val_accuracy: 0.9767\n",
      "\n",
      "Epoch 00020: val_loss improved from 0.08901 to 0.08413, saving model to /content/drive/MyDrive/ecARR/checkpoint/keras.model3\n",
      "It is ok!\n",
      "It is ok!\n",
      "It is ok!\n",
      "It is ok!\n",
      "It is ok!\n",
      "It is ok!\n",
      "It is ok!\n"
     ]
    },
    {
     "name": "stderr",
     "output_type": "stream",
     "text": [
      "WARNING:absl:Found untraced functions such as embedding_layer_call_and_return_conditional_losses, embedding_layer_call_fn, dense_layer_call_and_return_conditional_losses, dense_layer_call_fn, dense_1_layer_call_and_return_conditional_losses while saving (showing 5 of 85). These functions will not be directly callable after loading.\n",
      "INFO:tensorflow:Assets written to: /content/drive/MyDrive/ecARR/checkpoint/keras.model3/assets\n"
     ]
    },
    {
     "name": "stdout",
     "output_type": "stream",
     "text": [
      "Epoch 21/100\n",
      "1970/1970 [==============================] - 24s 12ms/step - loss: 0.0851 - accuracy: 0.9742 - val_loss: 0.0873 - val_accuracy: 0.9742\n",
      "\n",
      "Epoch 00021: val_loss did not improve from 0.08413\n",
      "Epoch 22/100\n",
      "1970/1970 [==============================] - 23s 12ms/step - loss: 0.0807 - accuracy: 0.9757 - val_loss: 0.0865 - val_accuracy: 0.9772\n",
      "\n",
      "Epoch 00022: val_loss did not improve from 0.08413\n",
      "Epoch 23/100\n",
      "1970/1970 [==============================] - 23s 12ms/step - loss: 0.0818 - accuracy: 0.9749 - val_loss: 0.0950 - val_accuracy: 0.9751\n",
      "\n",
      "Epoch 00023: val_loss did not improve from 0.08413\n",
      "Epoch 24/100\n",
      "1970/1970 [==============================] - 23s 12ms/step - loss: 0.0786 - accuracy: 0.9766 - val_loss: 0.0859 - val_accuracy: 0.9764\n",
      "\n",
      "Epoch 00024: val_loss did not improve from 0.08413\n",
      "Epoch 25/100\n",
      "1970/1970 [==============================] - 23s 12ms/step - loss: 0.0771 - accuracy: 0.9767 - val_loss: 0.0863 - val_accuracy: 0.9766\n",
      "\n",
      "Epoch 00025: val_loss did not improve from 0.08413\n",
      "Epoch 26/100\n",
      "1970/1970 [==============================] - 23s 12ms/step - loss: 0.0757 - accuracy: 0.9769 - val_loss: 0.0987 - val_accuracy: 0.9743\n",
      "\n",
      "Epoch 00026: val_loss did not improve from 0.08413\n",
      "Epoch 27/100\n",
      "1970/1970 [==============================] - 23s 12ms/step - loss: 0.0737 - accuracy: 0.9771 - val_loss: 0.0825 - val_accuracy: 0.9774\n",
      "\n",
      "Epoch 00027: val_loss improved from 0.08413 to 0.08250, saving model to /content/drive/MyDrive/ecARR/checkpoint/keras.model3\n",
      "It is ok!\n",
      "It is ok!\n",
      "It is ok!\n",
      "It is ok!\n",
      "It is ok!\n",
      "It is ok!\n",
      "It is ok!\n"
     ]
    },
    {
     "name": "stderr",
     "output_type": "stream",
     "text": [
      "WARNING:absl:Found untraced functions such as embedding_layer_call_and_return_conditional_losses, embedding_layer_call_fn, dense_layer_call_and_return_conditional_losses, dense_layer_call_fn, dense_1_layer_call_and_return_conditional_losses while saving (showing 5 of 85). These functions will not be directly callable after loading.\n",
      "INFO:tensorflow:Assets written to: /content/drive/MyDrive/ecARR/checkpoint/keras.model3/assets\n"
     ]
    },
    {
     "name": "stdout",
     "output_type": "stream",
     "text": [
      "Epoch 28/100\n",
      "1970/1970 [==============================] - 23s 12ms/step - loss: 0.0739 - accuracy: 0.9778 - val_loss: 0.0847 - val_accuracy: 0.9759\n",
      "\n",
      "Epoch 00028: val_loss did not improve from 0.08250\n",
      "Epoch 29/100\n",
      "1970/1970 [==============================] - 23s 12ms/step - loss: 0.0712 - accuracy: 0.9784 - val_loss: 0.0792 - val_accuracy: 0.9767\n",
      "\n",
      "Epoch 00029: val_loss improved from 0.08250 to 0.07917, saving model to /content/drive/MyDrive/ecARR/checkpoint/keras.model3\n",
      "It is ok!\n",
      "It is ok!\n",
      "It is ok!\n",
      "It is ok!\n",
      "It is ok!\n",
      "It is ok!\n",
      "It is ok!\n"
     ]
    },
    {
     "name": "stderr",
     "output_type": "stream",
     "text": [
      "WARNING:absl:Found untraced functions such as embedding_layer_call_and_return_conditional_losses, embedding_layer_call_fn, dense_layer_call_and_return_conditional_losses, dense_layer_call_fn, dense_1_layer_call_and_return_conditional_losses while saving (showing 5 of 85). These functions will not be directly callable after loading.\n",
      "INFO:tensorflow:Assets written to: /content/drive/MyDrive/ecARR/checkpoint/keras.model3/assets\n"
     ]
    },
    {
     "name": "stdout",
     "output_type": "stream",
     "text": [
      "Epoch 30/100\n",
      "1970/1970 [==============================] - 23s 12ms/step - loss: 0.0707 - accuracy: 0.9780 - val_loss: 0.0766 - val_accuracy: 0.9788\n",
      "\n",
      "Epoch 00030: val_loss improved from 0.07917 to 0.07664, saving model to /content/drive/MyDrive/ecARR/checkpoint/keras.model3\n",
      "It is ok!\n",
      "It is ok!\n",
      "It is ok!\n",
      "It is ok!\n",
      "It is ok!\n",
      "It is ok!\n",
      "It is ok!\n"
     ]
    },
    {
     "name": "stderr",
     "output_type": "stream",
     "text": [
      "WARNING:absl:Found untraced functions such as embedding_layer_call_and_return_conditional_losses, embedding_layer_call_fn, dense_layer_call_and_return_conditional_losses, dense_layer_call_fn, dense_1_layer_call_and_return_conditional_losses while saving (showing 5 of 85). These functions will not be directly callable after loading.\n",
      "INFO:tensorflow:Assets written to: /content/drive/MyDrive/ecARR/checkpoint/keras.model3/assets\n"
     ]
    },
    {
     "name": "stdout",
     "output_type": "stream",
     "text": [
      "Epoch 31/100\n",
      "1970/1970 [==============================] - 23s 12ms/step - loss: 0.0679 - accuracy: 0.9788 - val_loss: 0.0782 - val_accuracy: 0.9800\n",
      "\n",
      "Epoch 00031: val_loss did not improve from 0.07664\n",
      "Epoch 32/100\n",
      "1970/1970 [==============================] - 23s 12ms/step - loss: 0.0661 - accuracy: 0.9794 - val_loss: 0.0876 - val_accuracy: 0.9783\n",
      "\n",
      "Epoch 00032: val_loss did not improve from 0.07664\n",
      "Epoch 33/100\n",
      "1970/1970 [==============================] - 24s 12ms/step - loss: 0.0665 - accuracy: 0.9789 - val_loss: 0.0746 - val_accuracy: 0.9795\n",
      "\n",
      "Epoch 00033: val_loss improved from 0.07664 to 0.07461, saving model to /content/drive/MyDrive/ecARR/checkpoint/keras.model3\n",
      "It is ok!\n",
      "It is ok!\n",
      "It is ok!\n",
      "It is ok!\n",
      "It is ok!\n",
      "It is ok!\n",
      "It is ok!\n"
     ]
    },
    {
     "name": "stderr",
     "output_type": "stream",
     "text": [
      "WARNING:absl:Found untraced functions such as embedding_layer_call_and_return_conditional_losses, embedding_layer_call_fn, dense_layer_call_and_return_conditional_losses, dense_layer_call_fn, dense_1_layer_call_and_return_conditional_losses while saving (showing 5 of 85). These functions will not be directly callable after loading.\n",
      "INFO:tensorflow:Assets written to: /content/drive/MyDrive/ecARR/checkpoint/keras.model3/assets\n"
     ]
    },
    {
     "name": "stdout",
     "output_type": "stream",
     "text": [
      "Epoch 34/100\n",
      "1970/1970 [==============================] - 24s 12ms/step - loss: 0.0679 - accuracy: 0.9788 - val_loss: 0.0770 - val_accuracy: 0.9798\n",
      "\n",
      "Epoch 00034: val_loss did not improve from 0.07461\n",
      "Epoch 35/100\n",
      "1970/1970 [==============================] - 23s 12ms/step - loss: 0.0652 - accuracy: 0.9796 - val_loss: 0.0790 - val_accuracy: 0.9787\n",
      "\n",
      "Epoch 00035: val_loss did not improve from 0.07461\n",
      "Epoch 36/100\n",
      "1970/1970 [==============================] - 23s 12ms/step - loss: 0.0657 - accuracy: 0.9798 - val_loss: 0.0806 - val_accuracy: 0.9786\n",
      "\n",
      "Epoch 00036: val_loss did not improve from 0.07461\n",
      "Epoch 37/100\n",
      "1970/1970 [==============================] - 23s 12ms/step - loss: 0.0648 - accuracy: 0.9803 - val_loss: 0.0847 - val_accuracy: 0.9777\n",
      "\n",
      "Epoch 00037: val_loss did not improve from 0.07461\n",
      "Epoch 38/100\n",
      "1970/1970 [==============================] - 23s 12ms/step - loss: 0.0633 - accuracy: 0.9802 - val_loss: 0.0821 - val_accuracy: 0.9777\n",
      "\n",
      "Epoch 00038: val_loss did not improve from 0.07461\n",
      "Epoch 39/100\n",
      "1970/1970 [==============================] - 23s 12ms/step - loss: 0.0616 - accuracy: 0.9805 - val_loss: 0.0778 - val_accuracy: 0.9803\n",
      "\n",
      "Epoch 00039: val_loss did not improve from 0.07461\n",
      "Epoch 40/100\n",
      "1970/1970 [==============================] - 23s 12ms/step - loss: 0.0641 - accuracy: 0.9800 - val_loss: 0.0814 - val_accuracy: 0.9777\n",
      "\n",
      "Epoch 00040: val_loss did not improve from 0.07461\n",
      "Epoch 41/100\n",
      "1970/1970 [==============================] - 23s 12ms/step - loss: 0.0613 - accuracy: 0.9804 - val_loss: 0.0858 - val_accuracy: 0.9789\n",
      "\n",
      "Epoch 00041: val_loss did not improve from 0.07461\n",
      "Epoch 42/100\n",
      "1970/1970 [==============================] - 24s 12ms/step - loss: 0.0625 - accuracy: 0.9796 - val_loss: 0.0748 - val_accuracy: 0.9802\n",
      "\n",
      "Epoch 00042: val_loss did not improve from 0.07461\n",
      "Epoch 43/100\n",
      "1970/1970 [==============================] - 24s 12ms/step - loss: 0.0607 - accuracy: 0.9812 - val_loss: 0.0736 - val_accuracy: 0.9811\n",
      "\n",
      "Epoch 00043: val_loss improved from 0.07461 to 0.07356, saving model to /content/drive/MyDrive/ecARR/checkpoint/keras.model3\n",
      "It is ok!\n",
      "It is ok!\n",
      "It is ok!\n",
      "It is ok!\n",
      "It is ok!\n",
      "It is ok!\n",
      "It is ok!\n"
     ]
    },
    {
     "name": "stderr",
     "output_type": "stream",
     "text": [
      "WARNING:absl:Found untraced functions such as embedding_layer_call_and_return_conditional_losses, embedding_layer_call_fn, dense_layer_call_and_return_conditional_losses, dense_layer_call_fn, dense_1_layer_call_and_return_conditional_losses while saving (showing 5 of 85). These functions will not be directly callable after loading.\n",
      "INFO:tensorflow:Assets written to: /content/drive/MyDrive/ecARR/checkpoint/keras.model3/assets\n"
     ]
    },
    {
     "name": "stdout",
     "output_type": "stream",
     "text": [
      "Epoch 44/100\n",
      "1970/1970 [==============================] - 24s 12ms/step - loss: 0.0603 - accuracy: 0.9810 - val_loss: 0.0793 - val_accuracy: 0.9813\n",
      "\n",
      "Epoch 00044: val_loss did not improve from 0.07356\n",
      "Epoch 45/100\n",
      "1970/1970 [==============================] - 23s 12ms/step - loss: 0.0596 - accuracy: 0.9815 - val_loss: 0.0769 - val_accuracy: 0.9797\n",
      "\n",
      "Epoch 00045: val_loss did not improve from 0.07356\n",
      "Epoch 46/100\n",
      "1970/1970 [==============================] - 24s 12ms/step - loss: 0.0572 - accuracy: 0.9818 - val_loss: 0.0853 - val_accuracy: 0.9782\n",
      "\n",
      "Epoch 00046: val_loss did not improve from 0.07356\n",
      "Epoch 47/100\n",
      "1970/1970 [==============================] - 24s 12ms/step - loss: 0.0578 - accuracy: 0.9816 - val_loss: 0.0814 - val_accuracy: 0.9815\n",
      "\n",
      "Epoch 00047: val_loss did not improve from 0.07356\n",
      "Epoch 48/100\n",
      "1970/1970 [==============================] - 24s 12ms/step - loss: 0.0577 - accuracy: 0.9814 - val_loss: 0.0777 - val_accuracy: 0.9812\n",
      "\n",
      "Epoch 00048: val_loss did not improve from 0.07356\n",
      "Epoch 49/100\n",
      "1970/1970 [==============================] - 24s 12ms/step - loss: 0.0578 - accuracy: 0.9813 - val_loss: 0.0807 - val_accuracy: 0.9800\n",
      "\n",
      "Epoch 00049: val_loss did not improve from 0.07356\n",
      "Epoch 50/100\n",
      "1970/1970 [==============================] - 24s 12ms/step - loss: 0.0564 - accuracy: 0.9818 - val_loss: 0.0744 - val_accuracy: 0.9805\n",
      "\n",
      "Epoch 00050: val_loss did not improve from 0.07356\n",
      "Epoch 51/100\n",
      "1970/1970 [==============================] - 23s 12ms/step - loss: 0.0567 - accuracy: 0.9821 - val_loss: 0.0781 - val_accuracy: 0.9804\n",
      "\n",
      "Epoch 00051: val_loss did not improve from 0.07356\n",
      "Epoch 52/100\n",
      "1970/1970 [==============================] - 23s 12ms/step - loss: 0.0560 - accuracy: 0.9831 - val_loss: 0.0807 - val_accuracy: 0.9803\n",
      "\n",
      "Epoch 00052: val_loss did not improve from 0.07356\n",
      "Epoch 53/100\n",
      "1970/1970 [==============================] - 23s 12ms/step - loss: 0.0567 - accuracy: 0.9816 - val_loss: 0.0736 - val_accuracy: 0.9816\n",
      "\n",
      "Epoch 00053: val_loss did not improve from 0.07356\n",
      "\n",
      "Epoch 00053: ReduceLROnPlateau reducing learning rate to 0.00010000000474974513.\n",
      "Epoch 54/100\n",
      "1970/1970 [==============================] - 23s 12ms/step - loss: 0.0361 - accuracy: 0.9881 - val_loss: 0.0666 - val_accuracy: 0.9842\n",
      "\n",
      "Epoch 00054: val_loss improved from 0.07356 to 0.06657, saving model to /content/drive/MyDrive/ecARR/checkpoint/keras.model3\n",
      "It is ok!\n",
      "It is ok!\n",
      "It is ok!\n",
      "It is ok!\n",
      "It is ok!\n",
      "It is ok!\n",
      "It is ok!\n"
     ]
    },
    {
     "name": "stderr",
     "output_type": "stream",
     "text": [
      "WARNING:absl:Found untraced functions such as embedding_layer_call_and_return_conditional_losses, embedding_layer_call_fn, dense_layer_call_and_return_conditional_losses, dense_layer_call_fn, dense_1_layer_call_and_return_conditional_losses while saving (showing 5 of 85). These functions will not be directly callable after loading.\n",
      "INFO:tensorflow:Assets written to: /content/drive/MyDrive/ecARR/checkpoint/keras.model3/assets\n"
     ]
    },
    {
     "name": "stdout",
     "output_type": "stream",
     "text": [
      "Epoch 55/100\n",
      "1970/1970 [==============================] - 23s 12ms/step - loss: 0.0326 - accuracy: 0.9893 - val_loss: 0.0664 - val_accuracy: 0.9841\n",
      "\n",
      "Epoch 00055: val_loss improved from 0.06657 to 0.06640, saving model to /content/drive/MyDrive/ecARR/checkpoint/keras.model3\n",
      "It is ok!\n",
      "It is ok!\n",
      "It is ok!\n",
      "It is ok!\n",
      "It is ok!\n",
      "It is ok!\n",
      "It is ok!\n"
     ]
    },
    {
     "name": "stderr",
     "output_type": "stream",
     "text": [
      "WARNING:absl:Found untraced functions such as embedding_layer_call_and_return_conditional_losses, embedding_layer_call_fn, dense_layer_call_and_return_conditional_losses, dense_layer_call_fn, dense_1_layer_call_and_return_conditional_losses while saving (showing 5 of 85). These functions will not be directly callable after loading.\n",
      "INFO:tensorflow:Assets written to: /content/drive/MyDrive/ecARR/checkpoint/keras.model3/assets\n"
     ]
    },
    {
     "name": "stdout",
     "output_type": "stream",
     "text": [
      "Epoch 56/100\n",
      "1970/1970 [==============================] - 24s 12ms/step - loss: 0.0314 - accuracy: 0.9893 - val_loss: 0.0651 - val_accuracy: 0.9848\n",
      "\n",
      "Epoch 00056: val_loss improved from 0.06640 to 0.06513, saving model to /content/drive/MyDrive/ecARR/checkpoint/keras.model3\n",
      "It is ok!\n",
      "It is ok!\n",
      "It is ok!\n",
      "It is ok!\n",
      "It is ok!\n",
      "It is ok!\n",
      "It is ok!\n"
     ]
    },
    {
     "name": "stderr",
     "output_type": "stream",
     "text": [
      "WARNING:absl:Found untraced functions such as embedding_layer_call_and_return_conditional_losses, embedding_layer_call_fn, dense_layer_call_and_return_conditional_losses, dense_layer_call_fn, dense_1_layer_call_and_return_conditional_losses while saving (showing 5 of 85). These functions will not be directly callable after loading.\n",
      "INFO:tensorflow:Assets written to: /content/drive/MyDrive/ecARR/checkpoint/keras.model3/assets\n"
     ]
    },
    {
     "name": "stdout",
     "output_type": "stream",
     "text": [
      "Epoch 57/100\n",
      "1970/1970 [==============================] - 24s 12ms/step - loss: 0.0300 - accuracy: 0.9897 - val_loss: 0.0673 - val_accuracy: 0.9843\n",
      "\n",
      "Epoch 00057: val_loss did not improve from 0.06513\n",
      "Epoch 58/100\n",
      "1970/1970 [==============================] - 24s 12ms/step - loss: 0.0293 - accuracy: 0.9897 - val_loss: 0.0670 - val_accuracy: 0.9840\n",
      "\n",
      "Epoch 00058: val_loss did not improve from 0.06513\n",
      "Epoch 59/100\n",
      "1970/1970 [==============================] - 24s 12ms/step - loss: 0.0282 - accuracy: 0.9904 - val_loss: 0.0686 - val_accuracy: 0.9844\n",
      "\n",
      "Epoch 00059: val_loss did not improve from 0.06513\n",
      "Epoch 60/100\n",
      "1970/1970 [==============================] - 24s 12ms/step - loss: 0.0274 - accuracy: 0.9909 - val_loss: 0.0678 - val_accuracy: 0.9846\n",
      "\n",
      "Epoch 00060: val_loss did not improve from 0.06513\n",
      "Epoch 61/100\n",
      "1970/1970 [==============================] - 24s 12ms/step - loss: 0.0269 - accuracy: 0.9911 - val_loss: 0.0693 - val_accuracy: 0.9836\n",
      "\n",
      "Epoch 00061: val_loss did not improve from 0.06513\n",
      "Epoch 62/100\n",
      "1970/1970 [==============================] - 24s 12ms/step - loss: 0.0270 - accuracy: 0.9910 - val_loss: 0.0667 - val_accuracy: 0.9848\n",
      "\n",
      "Epoch 00062: val_loss did not improve from 0.06513\n",
      "Epoch 63/100\n",
      "1970/1970 [==============================] - 24s 12ms/step - loss: 0.0264 - accuracy: 0.9910 - val_loss: 0.0687 - val_accuracy: 0.9849\n",
      "\n",
      "Epoch 00063: val_loss did not improve from 0.06513\n",
      "Epoch 64/100\n",
      "1970/1970 [==============================] - 24s 12ms/step - loss: 0.0257 - accuracy: 0.9911 - val_loss: 0.0680 - val_accuracy: 0.9849\n",
      "\n",
      "Epoch 00064: val_loss did not improve from 0.06513\n",
      "Epoch 65/100\n",
      "1970/1970 [==============================] - 24s 12ms/step - loss: 0.0262 - accuracy: 0.9907 - val_loss: 0.0681 - val_accuracy: 0.9844\n",
      "\n",
      "Epoch 00065: val_loss did not improve from 0.06513\n",
      "Epoch 66/100\n",
      "1970/1970 [==============================] - 24s 12ms/step - loss: 0.0250 - accuracy: 0.9914 - val_loss: 0.0682 - val_accuracy: 0.9843\n",
      "\n",
      "Epoch 00066: val_loss did not improve from 0.06513\n",
      "\n",
      "Epoch 00066: ReduceLROnPlateau reducing learning rate to 0.0001.\n",
      "Epoch 67/100\n",
      "1970/1970 [==============================] - 24s 12ms/step - loss: 0.0242 - accuracy: 0.9917 - val_loss: 0.0695 - val_accuracy: 0.9850\n",
      "\n",
      "Epoch 00067: val_loss did not improve from 0.06513\n",
      "Epoch 68/100\n",
      "1970/1970 [==============================] - 24s 12ms/step - loss: 0.0240 - accuracy: 0.9917 - val_loss: 0.0720 - val_accuracy: 0.9843\n",
      "\n",
      "Epoch 00068: val_loss did not improve from 0.06513\n",
      "Epoch 69/100\n",
      "1970/1970 [==============================] - 24s 12ms/step - loss: 0.0232 - accuracy: 0.9920 - val_loss: 0.0710 - val_accuracy: 0.9849\n",
      "\n",
      "Epoch 00069: val_loss did not improve from 0.06513\n",
      "Epoch 70/100\n",
      "1970/1970 [==============================] - 24s 12ms/step - loss: 0.0241 - accuracy: 0.9921 - val_loss: 0.0706 - val_accuracy: 0.9850\n",
      "\n",
      "Epoch 00070: val_loss did not improve from 0.06513\n",
      "Epoch 71/100\n",
      "1970/1970 [==============================] - 24s 12ms/step - loss: 0.0234 - accuracy: 0.9920 - val_loss: 0.0718 - val_accuracy: 0.9843\n",
      "\n",
      "Epoch 00071: val_loss did not improve from 0.06513\n",
      "Epoch 72/100\n",
      "1970/1970 [==============================] - 24s 12ms/step - loss: 0.0230 - accuracy: 0.9925 - val_loss: 0.0715 - val_accuracy: 0.9844\n",
      "\n",
      "Epoch 00072: val_loss did not improve from 0.06513\n",
      "Epoch 73/100\n",
      "1970/1970 [==============================] - 24s 12ms/step - loss: 0.0229 - accuracy: 0.9917 - val_loss: 0.0739 - val_accuracy: 0.9850\n",
      "\n",
      "Epoch 00073: val_loss did not improve from 0.06513\n",
      "Epoch 74/100\n",
      "1970/1970 [==============================] - 24s 12ms/step - loss: 0.0228 - accuracy: 0.9922 - val_loss: 0.0726 - val_accuracy: 0.9847\n",
      "\n",
      "Epoch 00074: val_loss did not improve from 0.06513\n",
      "Epoch 75/100\n",
      "1970/1970 [==============================] - 24s 12ms/step - loss: 0.0227 - accuracy: 0.9923 - val_loss: 0.0728 - val_accuracy: 0.9843\n",
      "\n",
      "Epoch 00075: val_loss did not improve from 0.06513\n",
      "Epoch 76/100\n",
      "1970/1970 [==============================] - 24s 12ms/step - loss: 0.0233 - accuracy: 0.9921 - val_loss: 0.0699 - val_accuracy: 0.9846\n",
      "\n",
      "Epoch 00076: val_loss did not improve from 0.06513\n",
      "Epoch 00076: early stopping\n"
     ]
    }
   ],
   "source": [
    "!rm -r /content/drive/MyDrive/ecARR/checkpoint/keras.model3\n",
    "\n",
    "opt= tf.keras.optimizers.Adam(\n",
    "    learning_rate=0.001, beta_1=0.9, beta_2=0.999, epsilon=1e-07, name='Adam'\n",
    ")\n",
    "\n",
    "#for loss try sample_weight\n",
    "model_classifier.compile(\n",
    "                      optimizer=opt,\n",
    "                      loss=\"sparse_categorical_crossentropy\",\n",
    "                      metrics=['accuracy'],\n",
    "                      loss_weights=None\n",
    "                      )\n",
    "\n",
    "\n",
    "early_stopping = tf.keras.callbacks.EarlyStopping(monitor='val_loss', min_delta=0, patience=20, verbose=1)\n",
    "reduce_lr = tf.keras.callbacks.ReduceLROnPlateau(monitor='val_loss', factor=0.1, patience=10,\n",
    "                              verbose=1, mode='auto', min_delta=0.0001, cooldown=0, min_lr=0.0001)\n",
    "model_checkpoint = tf.keras.callbacks.ModelCheckpoint(BASEPATH + \"checkpoint/keras.model3\",\n",
    "                                                      monitor='val_loss', save_best_only=True, verbose=1)\n",
    "\n",
    "callbacks = [early_stopping, model_checkpoint, reduce_lr]\n",
    "\n",
    "model_history = model_classifier.fit(\n",
    "              x=x_train,\n",
    "              y=y_train,\n",
    "              batch_size=params['batch_size'],\n",
    "              epochs=params['epochs'],\n",
    "              verbose=1,\n",
    "              callbacks=callbacks,\n",
    "              validation_data=(x_val, y_val),\n",
    "              shuffle=True,\n",
    "              class_weight=None,\n",
    "              sample_weight=None,\n",
    "              initial_epoch=0\n",
    "              )"
   ]
  },
  {
   "cell_type": "code",
   "execution_count": null,
   "metadata": {
    "colab": {
     "base_uri": "https://localhost:8080/",
     "height": 295
    },
    "id": "kmoNvLfz8ER8",
    "outputId": "5f04696a-2e19-4647-815a-69329c031eec"
   },
   "outputs": [
    {
     "data": {
      "image/png": "[encoded data removed]",
      "text/plain": [
       "<Figure size 432x288 with 1 Axes>"
      ]
     },
     "metadata": {
      "needs_background": "light",
      "tags": []
     },
     "output_type": "display_data"
    }
   ],
   "source": [
    "plot_loss(model_history)"
   ]
  },
  {
   "cell_type": "code",
   "execution_count": null,
   "metadata": {
    "colab": {
     "base_uri": "https://localhost:8080/"
    },
    "id": "h64FOVNLurmL",
    "outputId": "ec65f61e-7f6b-41cb-8e1f-6d0673e9bb69"
   },
   "outputs": [
    {
     "data": {
      "text/plain": [
       "(0.0651339739561081, 55)"
      ]
     },
     "execution_count": 15,
     "metadata": {
      "tags": []
     },
     "output_type": "execute_result"
    }
   ],
   "source": [
    "a =model_history.history\n",
    "min(a['val_loss']), a['val_loss'].index(min(a['val_loss']))"
   ]
  },
  {
   "cell_type": "code",
   "execution_count": null,
   "metadata": {
    "id": "e6QEha8ryTbH"
   },
   "outputs": [],
   "source": [
    "import pickle\n",
    "with open(BASEPATH+'model_history3.history', 'wb') as f:\n",
    "  pickle.dump(model_history.history, f)\n"
   ]
  },
  {
   "cell_type": "markdown",
   "metadata": {
    "id": "DQkAk3O5iaOY"
   },
   "source": [
    "# Loading Model and results"
   ]
  },
  {
   "cell_type": "code",
   "execution_count": null,
   "metadata": {
    "colab": {
     "base_uri": "https://localhost:8080/",
     "height": 35
    },
    "id": "8C8axIoViOLm",
    "outputId": "cc25e100-886c-4f4f-93f5-d298bf7fea06"
   },
   "outputs": [
    {
     "data": {
      "application/vnd.google.colaboratory.intrinsic+json": {
       "type": "string"
      },
      "text/plain": [
       "'multi_head_attention_classifier'"
      ]
     },
     "execution_count": 17,
     "metadata": {
      "tags": []
     },
     "output_type": "execute_result"
    }
   ],
   "source": [
    "loaded_model = tf.keras.models.load_model(BASEPATH+'checkpoint/keras.model3')\n",
    "model_classifier.name"
   ]
  },
  {
   "cell_type": "code",
   "execution_count": null,
   "metadata": {
    "id": "xORFdEMo2CO2"
   },
   "outputs": [],
   "source": [
    "y_pred_prob = loaded_model.predict(x_test)"
   ]
  },
  {
   "cell_type": "code",
   "execution_count": null,
   "metadata": {
    "id": "7a2k_nBx9ZAF"
   },
   "outputs": [],
   "source": [
    "y_pred = integerMapping(list(y_pred_prob.argmax(axis=-1)), intMapDict, inverse=True)\n",
    "y_true = y_test"
   ]
  },
  {
   "cell_type": "markdown",
   "metadata": {
    "id": "M_MQf22sLP2r"
   },
   "source": [
    "Precision or Positive Predictive Value (PPV):  TP/(TP+FP)\n",
    "\n",
    "Sensitivity or Recall: TP/(TP+FN)\n",
    "\n",
    "Specificity: TN/(TN+FP)\n",
    "\n",
    "Accuracy (ACC): (TP+TN)/(TP+TN+FP+FN)"
   ]
  },
  {
   "cell_type": "code",
   "execution_count": null,
   "metadata": {
    "colab": {
     "base_uri": "https://localhost:8080/",
     "height": 1000
    },
    "id": "ufOHIHBW_R-j",
    "outputId": "0f4c4b13-7d04-40df-90ac-cb46bdb29d56"
   },
   "outputs": [
    {
     "name": "stderr",
     "output_type": "stream",
     "text": [
      "/usr/local/lib/python3.7/dist-packages/sklearn/metrics/_classification.py:1272: UndefinedMetricWarning: Precision and F-score are ill-defined and being set to 0.0 in labels with no predicted samples. Use `zero_division` parameter to control this behavior.\n",
      "  _warn_prf(average, modifier, msg_start, len(result))\n"
     ]
    },
    {
     "name": "stdout",
     "output_type": "stream",
     "text": [
      "              precision    recall  f1-score   support\n",
      "\n",
      "           /     0.9986    0.9986    0.9986       724\n",
      "           A     0.9325    0.8409    0.8843       509\n",
      "           E     0.8750    1.0000    0.9333        21\n",
      "           F     0.9197    0.7875    0.8485       160\n",
      "           J     0.9286    0.7647    0.8387        17\n",
      "           L     0.9938    0.9926    0.9932      1614\n",
      "           N     0.9880    0.9960    0.9920     14952\n",
      "           Q     0.0000    0.0000    0.0000         3\n",
      "           R     0.9924    0.9897    0.9910      1451\n",
      "           S     0.0000    0.0000    0.0000         1\n",
      "           V     0.9703    0.9635    0.9669      1425\n",
      "           a     0.8000    0.6667    0.7273        30\n",
      "           e     0.5000    0.3333    0.4000         3\n",
      "           f     0.9800    0.9423    0.9608        52\n",
      "           j     0.7308    0.4130    0.5278        46\n",
      "\n",
      "    accuracy                         0.9855     21008\n",
      "   macro avg     0.7740    0.7126    0.7375     21008\n",
      "weighted avg     0.9848    0.9855    0.9849     21008\n",
      "\n"
     ]
    },
    {
     "name": "stderr",
     "output_type": "stream",
     "text": [
      "/content/drive/MyDrive/ecARR/report.py:50: RuntimeWarning: invalid value encountered in true_divide\n",
      "  PPV = TP/(TP+FP) # Precision, positive predictive value (PPV)\n"
     ]
    },
    {
     "data": {
      "text/html": [
       "<div>\n",
       "<style scoped>\n",
       "    .dataframe tbody tr th:only-of-type {\n",
       "        vertical-align: middle;\n",
       "    }\n",
       "\n",
       "    .dataframe tbody tr th {\n",
       "        vertical-align: top;\n",
       "    }\n",
       "\n",
       "    .dataframe thead th {\n",
       "        text-align: right;\n",
       "    }\n",
       "</style>\n",
       "<table border=\"1\" class=\"dataframe\">\n",
       "  <thead>\n",
       "    <tr style=\"text-align: right;\">\n",
       "      <th></th>\n",
       "      <th>Class</th>\n",
       "      <th>(PPV)Precision</th>\n",
       "      <th>(Sensitivity)Recall</th>\n",
       "      <th>Specificity</th>\n",
       "      <th>Accuracy</th>\n",
       "    </tr>\n",
       "  </thead>\n",
       "  <tbody>\n",
       "    <tr>\n",
       "      <th>0</th>\n",
       "      <td>/</td>\n",
       "      <td>0.998619</td>\n",
       "      <td>0.998619</td>\n",
       "      <td>0.999951</td>\n",
       "      <td>0.999905</td>\n",
       "    </tr>\n",
       "    <tr>\n",
       "      <th>1</th>\n",
       "      <td>A</td>\n",
       "      <td>0.932462</td>\n",
       "      <td>0.840864</td>\n",
       "      <td>0.998488</td>\n",
       "      <td>0.994669</td>\n",
       "    </tr>\n",
       "    <tr>\n",
       "      <th>2</th>\n",
       "      <td>E</td>\n",
       "      <td>0.875000</td>\n",
       "      <td>1.000000</td>\n",
       "      <td>0.999857</td>\n",
       "      <td>0.999857</td>\n",
       "    </tr>\n",
       "    <tr>\n",
       "      <th>3</th>\n",
       "      <td>F</td>\n",
       "      <td>0.919708</td>\n",
       "      <td>0.787500</td>\n",
       "      <td>0.999472</td>\n",
       "      <td>0.997858</td>\n",
       "    </tr>\n",
       "    <tr>\n",
       "      <th>4</th>\n",
       "      <td>J</td>\n",
       "      <td>0.928571</td>\n",
       "      <td>0.764706</td>\n",
       "      <td>0.999952</td>\n",
       "      <td>0.999762</td>\n",
       "    </tr>\n",
       "    <tr>\n",
       "      <th>5</th>\n",
       "      <td>L</td>\n",
       "      <td>0.993797</td>\n",
       "      <td>0.992565</td>\n",
       "      <td>0.999484</td>\n",
       "      <td>0.998953</td>\n",
       "    </tr>\n",
       "    <tr>\n",
       "      <th>6</th>\n",
       "      <td>N</td>\n",
       "      <td>0.987992</td>\n",
       "      <td>0.995987</td>\n",
       "      <td>0.970112</td>\n",
       "      <td>0.988528</td>\n",
       "    </tr>\n",
       "    <tr>\n",
       "      <th>7</th>\n",
       "      <td>Q</td>\n",
       "      <td>NaN</td>\n",
       "      <td>0.000000</td>\n",
       "      <td>1.000000</td>\n",
       "      <td>0.999857</td>\n",
       "    </tr>\n",
       "    <tr>\n",
       "      <th>8</th>\n",
       "      <td>R</td>\n",
       "      <td>0.992398</td>\n",
       "      <td>0.989662</td>\n",
       "      <td>0.999438</td>\n",
       "      <td>0.998762</td>\n",
       "    </tr>\n",
       "    <tr>\n",
       "      <th>9</th>\n",
       "      <td>S</td>\n",
       "      <td>NaN</td>\n",
       "      <td>0.000000</td>\n",
       "      <td>1.000000</td>\n",
       "      <td>0.999952</td>\n",
       "    </tr>\n",
       "    <tr>\n",
       "      <th>10</th>\n",
       "      <td>V</td>\n",
       "      <td>0.970318</td>\n",
       "      <td>0.963509</td>\n",
       "      <td>0.997855</td>\n",
       "      <td>0.995526</td>\n",
       "    </tr>\n",
       "    <tr>\n",
       "      <th>11</th>\n",
       "      <td>a</td>\n",
       "      <td>0.800000</td>\n",
       "      <td>0.666667</td>\n",
       "      <td>0.999762</td>\n",
       "      <td>0.999286</td>\n",
       "    </tr>\n",
       "    <tr>\n",
       "      <th>12</th>\n",
       "      <td>e</td>\n",
       "      <td>0.500000</td>\n",
       "      <td>0.333333</td>\n",
       "      <td>0.999952</td>\n",
       "      <td>0.999857</td>\n",
       "    </tr>\n",
       "    <tr>\n",
       "      <th>13</th>\n",
       "      <td>f</td>\n",
       "      <td>0.980000</td>\n",
       "      <td>0.942308</td>\n",
       "      <td>0.999952</td>\n",
       "      <td>0.999810</td>\n",
       "    </tr>\n",
       "    <tr>\n",
       "      <th>14</th>\n",
       "      <td>j</td>\n",
       "      <td>0.730769</td>\n",
       "      <td>0.413043</td>\n",
       "      <td>0.999666</td>\n",
       "      <td>0.998382</td>\n",
       "    </tr>\n",
       "  </tbody>\n",
       "</table>\n",
       "</div>"
      ],
      "text/plain": [
       "   Class  (PPV)Precision  (Sensitivity)Recall  Specificity  Accuracy\n",
       "0      /        0.998619             0.998619     0.999951  0.999905\n",
       "1      A        0.932462             0.840864     0.998488  0.994669\n",
       "2      E        0.875000             1.000000     0.999857  0.999857\n",
       "3      F        0.919708             0.787500     0.999472  0.997858\n",
       "4      J        0.928571             0.764706     0.999952  0.999762\n",
       "5      L        0.993797             0.992565     0.999484  0.998953\n",
       "6      N        0.987992             0.995987     0.970112  0.988528\n",
       "7      Q             NaN             0.000000     1.000000  0.999857\n",
       "8      R        0.992398             0.989662     0.999438  0.998762\n",
       "9      S             NaN             0.000000     1.000000  0.999952\n",
       "10     V        0.970318             0.963509     0.997855  0.995526\n",
       "11     a        0.800000             0.666667     0.999762  0.999286\n",
       "12     e        0.500000             0.333333     0.999952  0.999857\n",
       "13     f        0.980000             0.942308     0.999952  0.999810\n",
       "14     j        0.730769             0.413043     0.999666  0.998382"
      ]
     },
     "execution_count": 20,
     "metadata": {
      "tags": []
     },
     "output_type": "execute_result"
    },
    {
     "data": {
      "image/png": "[encoded data removed]",
      "text/plain": [
       "<Figure size 800x800 with 2 Axes>"
      ]
     },
     "metadata": {
      "needs_background": "light",
      "tags": []
     },
     "output_type": "display_data"
    }
   ],
   "source": [
    "labels = [k for k,v in intMapDict.items()]\n",
    "report = Reports(yTrue=y_true, yPred=y_pred, labels=labels)\n",
    "report.plotConfusionMatrix()\n",
    "print(report.classificationReport())\n",
    "report.metricsTable()"
   ]
  },
  {
   "cell_type": "code",
   "execution_count": null,
   "metadata": {
    "colab": {
     "base_uri": "https://localhost:8080/",
     "height": 1000
    },
    "id": "_jj1khYDHkDM",
    "outputId": "868c4c39-1f9a-43a2-c37a-bc4137537cd9"
   },
   "outputs": [
    {
     "name": "stdout",
     "output_type": "stream",
     "text": [
      "              precision    recall  f1-score   support\n",
      "\n",
      "           F     0.9197    0.7875    0.8485       160\n",
      "           N     0.9915    0.9967    0.9941     18066\n",
      "           Q     0.9974    0.9910    0.9942       779\n",
      "           S     0.9317    0.8330    0.8796       557\n",
      "           V     0.9701    0.9654    0.9678      1446\n",
      "\n",
      "    accuracy                         0.9884     21008\n",
      "   macro avg     0.9621    0.9147    0.9368     21008\n",
      "weighted avg     0.9881    0.9884    0.9881     21008\n",
      "\n"
     ]
    },
    {
     "data": {
      "text/html": [
       "<div>\n",
       "<style scoped>\n",
       "    .dataframe tbody tr th:only-of-type {\n",
       "        vertical-align: middle;\n",
       "    }\n",
       "\n",
       "    .dataframe tbody tr th {\n",
       "        vertical-align: top;\n",
       "    }\n",
       "\n",
       "    .dataframe thead th {\n",
       "        text-align: right;\n",
       "    }\n",
       "</style>\n",
       "<table border=\"1\" class=\"dataframe\">\n",
       "  <thead>\n",
       "    <tr style=\"text-align: right;\">\n",
       "      <th></th>\n",
       "      <th>Class</th>\n",
       "      <th>(PPV)Precision</th>\n",
       "      <th>(Sensitivity)Recall</th>\n",
       "      <th>Specificity</th>\n",
       "      <th>Accuracy</th>\n",
       "    </tr>\n",
       "  </thead>\n",
       "  <tbody>\n",
       "    <tr>\n",
       "      <th>0</th>\n",
       "      <td>F</td>\n",
       "      <td>0.919708</td>\n",
       "      <td>0.787500</td>\n",
       "      <td>0.999472</td>\n",
       "      <td>0.997858</td>\n",
       "    </tr>\n",
       "    <tr>\n",
       "      <th>1</th>\n",
       "      <td>N</td>\n",
       "      <td>0.991520</td>\n",
       "      <td>0.996679</td>\n",
       "      <td>0.947655</td>\n",
       "      <td>0.989813</td>\n",
       "    </tr>\n",
       "    <tr>\n",
       "      <th>2</th>\n",
       "      <td>Q</td>\n",
       "      <td>0.997416</td>\n",
       "      <td>0.991014</td>\n",
       "      <td>0.999901</td>\n",
       "      <td>0.999572</td>\n",
       "    </tr>\n",
       "    <tr>\n",
       "      <th>3</th>\n",
       "      <td>S</td>\n",
       "      <td>0.931727</td>\n",
       "      <td>0.833034</td>\n",
       "      <td>0.998337</td>\n",
       "      <td>0.993955</td>\n",
       "    </tr>\n",
       "    <tr>\n",
       "      <th>4</th>\n",
       "      <td>V</td>\n",
       "      <td>0.970118</td>\n",
       "      <td>0.965422</td>\n",
       "      <td>0.997802</td>\n",
       "      <td>0.995573</td>\n",
       "    </tr>\n",
       "  </tbody>\n",
       "</table>\n",
       "</div>"
      ],
      "text/plain": [
       "  Class  (PPV)Precision  (Sensitivity)Recall  Specificity  Accuracy\n",
       "0     F        0.919708             0.787500     0.999472  0.997858\n",
       "1     N        0.991520             0.996679     0.947655  0.989813\n",
       "2     Q        0.997416             0.991014     0.999901  0.999572\n",
       "3     S        0.931727             0.833034     0.998337  0.993955\n",
       "4     V        0.970118             0.965422     0.997802  0.995573"
      ]
     },
     "execution_count": 21,
     "metadata": {
      "tags": []
     },
     "output_type": "execute_result"
    },
    {
     "data": {
      "image/png": "[encoded data removed]",
      "text/plain": [
       "<Figure size 800x800 with 2 Axes>"
      ]
     },
     "metadata": {
      "needs_background": "light",
      "tags": []
     },
     "output_type": "display_data"
    }
   ],
   "source": [
    "y_pred_AAMI = mappingAAMI(y_pred, MAP_AAMI)\n",
    "y_true_AAMI = mappingAAMI(y_true, MAP_AAMI)\n",
    "labels_AAMI = ['N','V','S','F','Q']\n",
    "report = Reports(yTrue=y_true_AAMI, yPred=y_pred_AAMI, labels=labels_AAMI)\n",
    "report.plotConfusionMatrix()\n",
    "print(report.classificationReport())\n",
    "report.metricsTable()"
   ]
  },
  {
   "cell_type": "code",
   "execution_count": null,
   "metadata": {
    "id": "52ApXgEVHkFl"
   },
   "outputs": [],
   "source": []
  }
 ],
 "metadata": {
  "accelerator": "TPU",
  "colab": {
   "collapsed_sections": [
    "QgKvMiSDOJJB"
   ],
   "name": "ecARR1--Model3.ipynb",
   "provenance": []
  },
  "kernelspec": {
   "display_name": "Python 3 (ipykernel)",
   "language": "python",
   "name": "python3"
  },
  "language_info": {
   "codemirror_mode": {
    "name": "ipython",
    "version": 3
   },
   "file_extension": ".py",
   "mimetype": "text/x-python",
   "name": "python",
   "nbconvert_exporter": "python",
   "pygments_lexer": "ipython3",
   "version": "3.9.5"
  }
 },
 "nbformat": 4,
 "nbformat_minor": 1
}
